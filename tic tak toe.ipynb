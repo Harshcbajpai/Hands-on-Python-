{
 "cells": [
  {
   "cell_type": "code",
   "execution_count": 3,
   "id": "41bd0101",
   "metadata": {},
   "outputs": [],
   "source": [
    "import numpy as np\n",
    "import pandas as pd\n",
    "import seaborn as sns\n",
    "import matplotlib.pyplot as plt \n",
    "%matplotlib inline\n",
    "sns.set(color_codes=True)"
   ]
  },
  {
   "cell_type": "code",
   "execution_count": 5,
   "id": "2a7a0ff7",
   "metadata": {},
   "outputs": [],
   "source": [
    " def disp(r1,r2,r3):\n",
    "    print(r1)\n",
    "    print(r2)\n",
    "    print(r3)"
   ]
  },
  {
   "cell_type": "code",
   "execution_count": 6,
   "id": "9b3d022b",
   "metadata": {},
   "outputs": [],
   "source": [
    "r1=[1,2,3]\n",
    "r2=[2,3,4]\n",
    "r3=[4,5,6]"
   ]
  },
  {
   "cell_type": "code",
   "execution_count": 7,
   "id": "44021e0d",
   "metadata": {},
   "outputs": [
    {
     "name": "stdout",
     "output_type": "stream",
     "text": [
      "[1, 2, 3]\n",
      "[2, 3, 4]\n",
      "[4, 5, 6]\n"
     ]
    }
   ],
   "source": [
    "disp(r1,r2,r3)"
   ]
  },
  {
   "cell_type": "code",
   "execution_count": 9,
   "id": "79743e6d",
   "metadata": {},
   "outputs": [],
   "source": [
    "r2[2]='X'"
   ]
  },
  {
   "cell_type": "code",
   "execution_count": 10,
   "id": "b840aa27",
   "metadata": {},
   "outputs": [
    {
     "name": "stdout",
     "output_type": "stream",
     "text": [
      "[1, 2, 3]\n",
      "[2, 3, 'X']\n",
      "[4, 5, 6]\n"
     ]
    }
   ],
   "source": [
    "disp(r1,r2,r3)"
   ]
  },
  {
   "cell_type": "code",
   "execution_count": 13,
   "id": "e06c977e",
   "metadata": {},
   "outputs": [
    {
     "name": "stdout",
     "output_type": "stream",
     "text": [
      "hello human world what is your ziduls number: 23445\n"
     ]
    }
   ],
   "source": [
    "result=input(\"hello human world what is your ziduls number: \")"
   ]
  },
  {
   "cell_type": "code",
   "execution_count": 17,
   "id": "b3c1e621",
   "metadata": {},
   "outputs": [
    {
     "data": {
      "text/plain": [
       "'23445'"
      ]
     },
     "execution_count": 17,
     "metadata": {},
     "output_type": "execute_result"
    }
   ],
   "source": [
    "result"
   ]
  },
  {
   "cell_type": "code",
   "execution_count": 18,
   "id": "5c89e861",
   "metadata": {},
   "outputs": [],
   "source": [
    "result_int = int(result)"
   ]
  },
  {
   "cell_type": "code",
   "execution_count": 21,
   "id": "c67b5189",
   "metadata": {},
   "outputs": [
    {
     "data": {
      "text/plain": [
       "int"
      ]
     },
     "execution_count": 21,
     "metadata": {},
     "output_type": "execute_result"
    }
   ],
   "source": [
    "type(result_int)\n"
   ]
  },
  {
   "cell_type": "code",
   "execution_count": 29,
   "id": "d22f10f4",
   "metadata": {},
   "outputs": [],
   "source": [
    "row1=[' ',' ',' ']\n",
    "row2=[' ',' ',' ']\n",
    "row3=[' ',' ',' ']"
   ]
  },
  {
   "cell_type": "code",
   "execution_count": 30,
   "id": "bddec639",
   "metadata": {},
   "outputs": [
    {
     "name": "stdout",
     "output_type": "stream",
     "text": [
      "choose a posistion index :  2\n"
     ]
    }
   ],
   "source": [
    "pos_index=int(input(\"choose a posistion index :  \"))"
   ]
  },
  {
   "cell_type": "code",
   "execution_count": 31,
   "id": "b29b18c2",
   "metadata": {},
   "outputs": [
    {
     "data": {
      "text/plain": [
       "int"
      ]
     },
     "execution_count": 31,
     "metadata": {},
     "output_type": "execute_result"
    }
   ],
   "source": [
    "type(pos_index)"
   ]
  },
  {
   "cell_type": "code",
   "execution_count": 32,
   "id": "f2a1f620",
   "metadata": {},
   "outputs": [
    {
     "data": {
      "text/plain": [
       "' '"
      ]
     },
     "execution_count": 32,
     "metadata": {},
     "output_type": "execute_result"
    }
   ],
   "source": [
    "row3[pos_index]"
   ]
  },
  {
   "cell_type": "code",
   "execution_count": 45,
   "id": "5b335bb5",
   "metadata": {},
   "outputs": [],
   "source": [
    "def user_turn():\n",
    "    \n",
    "    turn = \"WRONG\"\n",
    "    \n",
    "    while turn.isdigit() == False:\n",
    "        \n",
    "        turn=input(\"pls input a number(0-10): \")\n",
    "        \n",
    "        if turn.isdigit() == False:\n",
    "            print(\"sorry this is not a number ...systems breaking down @%#%$&#%\")\n",
    "    \n",
    "    return int(turn)"
   ]
  },
  {
   "cell_type": "code",
   "execution_count": 46,
   "id": "a7f17cfb",
   "metadata": {},
   "outputs": [
    {
     "name": "stdout",
     "output_type": "stream",
     "text": [
      "pls input a number(0-10): df\n",
      "sorry this is not a number ...systems breaking down @%#%$&#%\n",
      "pls input a number(0-10): fg\n",
      "sorry this is not a number ...systems breaking down @%#%$&#%\n",
      "pls input a number(0-10): gh\n",
      "sorry this is not a number ...systems breaking down @%#%$&#%\n",
      "pls input a number(0-10): 45\n"
     ]
    },
    {
     "data": {
      "text/plain": [
       "45"
      ]
     },
     "execution_count": 46,
     "metadata": {},
     "output_type": "execute_result"
    }
   ],
   "source": [
    "user_turn()"
   ]
  },
  {
   "cell_type": "code",
   "execution_count": 51,
   "id": "9ed68da2",
   "metadata": {},
   "outputs": [],
   "source": [
    "result=\"0 \""
   ]
  },
  {
   "cell_type": "code",
   "execution_count": 55,
   "id": "5ef796d3",
   "metadata": {},
   "outputs": [
    {
     "data": {
      "text/plain": [
       "range(0, 10)"
      ]
     },
     "execution_count": 55,
     "metadata": {},
     "output_type": "execute_result"
    }
   ],
   "source": []
  },
  {
   "cell_type": "code",
   "execution_count": 53,
   "id": "128c313f",
   "metadata": {},
   "outputs": [
    {
     "data": {
      "text/plain": [
       "False"
      ]
     },
     "execution_count": 53,
     "metadata": {},
     "output_type": "execute_result"
    }
   ],
   "source": [
    "result in acceptable_values"
   ]
  },
  {
   "cell_type": "code",
   "execution_count": 54,
   "id": "b83fd1cd",
   "metadata": {},
   "outputs": [
    {
     "data": {
      "text/plain": [
       "True"
      ]
     },
     "execution_count": 54,
     "metadata": {},
     "output_type": "execute_result"
    }
   ],
   "source": [
    "result not in acceptable_values"
   ]
  },
  {
   "cell_type": "code",
   "execution_count": 56,
   "id": "d9c29878",
   "metadata": {},
   "outputs": [],
   "source": [
    "def user_turn():\n",
    "    # initial values\n",
    "    turn = \"WRONG\"\n",
    "    acceptables_inputs = [0,1,2,3,4,5,6,7,8,9]\n",
    "    within_limits = False\n",
    "    # 2 condition checks ( digit and withing limit)\n",
    "    while turn.isdigit() == False or within_limits==False:\n",
    "        \n",
    "        turn=input(\"pls input a number(0-10): \")\n",
    "        #digit check\n",
    "        if turn.isdigit() == False:\n",
    "            print(\"sorry this is not a number ...systems breaking down @%#%$&#%\")\n",
    "        #withinlimits check    \n",
    "        if turn.isdigit() == True:\n",
    "            if int(turn) in acceptables_inputs:\n",
    "                within_limits=True\n",
    "            else:\n",
    "                print(\"sorry you are out of digit range\")\n",
    "                within_limits = False\n",
    "                    \n",
    "            \n",
    "        \n",
    "    \n",
    "    return int(turn)"
   ]
  },
  {
   "cell_type": "code",
   "execution_count": 63,
   "id": "92bc5cc7",
   "metadata": {},
   "outputs": [
    {
     "name": "stdout",
     "output_type": "stream",
     "text": [
      "pls input a number(0-10): 2\n"
     ]
    },
    {
     "data": {
      "text/plain": [
       "2"
      ]
     },
     "execution_count": 63,
     "metadata": {},
     "output_type": "execute_result"
    }
   ],
   "source": [
    "user_turn()"
   ]
  },
  {
   "cell_type": "code",
   "execution_count": 58,
   "id": "2eb4242a",
   "metadata": {},
   "outputs": [],
   "source": [
    "game_list=[0,1,2]"
   ]
  },
  {
   "cell_type": "code",
   "execution_count": 59,
   "id": "a2cf69fe",
   "metadata": {},
   "outputs": [],
   "source": [
    "def display_game(game_list):\n",
    "    print('here is the current list:  ')\n",
    "    print(game_list)"
   ]
  },
  {
   "cell_type": "code",
   "execution_count": 60,
   "id": "8b6c95d3",
   "metadata": {},
   "outputs": [
    {
     "name": "stdout",
     "output_type": "stream",
     "text": [
      "here is the current list:  \n",
      "[0, 1, 2]\n"
     ]
    }
   ],
   "source": [
    "display_game(game_list)"
   ]
  },
  {
   "cell_type": "code",
   "execution_count": 65,
   "id": "6167bdd5",
   "metadata": {},
   "outputs": [
    {
     "ename": "IndentationError",
     "evalue": "unindent does not match any outer indentation level (<tokenize>, line 8)",
     "output_type": "error",
     "traceback": [
      "\u001b[1;36m  File \u001b[1;32m\"<tokenize>\"\u001b[1;36m, line \u001b[1;32m8\u001b[0m\n\u001b[1;33m    turn=input(\"pls input a number(0-10): \")\u001b[0m\n\u001b[1;37m    ^\u001b[0m\n\u001b[1;31mIndentationError\u001b[0m\u001b[1;31m:\u001b[0m unindent does not match any outer indentation level\n"
     ]
    }
   ],
   "source": []
  },
  {
   "cell_type": "code",
   "execution_count": null,
   "id": "d8709681",
   "metadata": {},
   "outputs": [],
   "source": [
    "user_input()"
   ]
  },
  {
   "cell_type": "code",
   "execution_count": 68,
   "id": "75278868",
   "metadata": {},
   "outputs": [],
   "source": [
    "def user_turn():\n",
    "    # initial values\n",
    "    turn = \"WRONG\"\n",
    "    acceptables_inputs = [0,1,2,3,4,5,6,7,8,9]\n",
    "    within_limits = False\n",
    "    # 2 condition checks ( digit and withing limit)\n",
    "    while turn.isdigit() == False or within_limits==False:\n",
    "        \n",
    "        turn=input(\"pls input a number(0-10): \")\n",
    "        #digit check\n",
    "        if turn.isdigit() == False:\n",
    "            print(\"sorry this is not a number ...systems breaking down @%#%$&#%\")\n",
    "        #withinlimits check    \n",
    "        if turn.isdigit() == True:\n",
    "            if int(turn) in acceptables_inputs:\n",
    "                within_limits=True\n",
    "            else:\n",
    "                print(\"sorry you are out of digit range\")\n",
    "                within_limits = False\n",
    "                    \n",
    "            \n",
    "        \n",
    "    \n",
    "    return int(turn) "
   ]
  },
  {
   "cell_type": "code",
   "execution_count": 69,
   "id": "d5e62067",
   "metadata": {},
   "outputs": [
    {
     "ename": "NameError",
     "evalue": "name 'user_input' is not defined",
     "output_type": "error",
     "traceback": [
      "\u001b[1;31m---------------------------------------------------------------------------\u001b[0m",
      "\u001b[1;31mNameError\u001b[0m                                 Traceback (most recent call last)",
      "\u001b[1;32mC:\\Users\\HARESH~1\\AppData\\Local\\Temp/ipykernel_13092/1722555396.py\u001b[0m in \u001b[0;36m<module>\u001b[1;34m\u001b[0m\n\u001b[1;32m----> 1\u001b[1;33m \u001b[0muser_input\u001b[0m\u001b[1;33m(\u001b[0m\u001b[1;33m)\u001b[0m\u001b[1;33m\u001b[0m\u001b[1;33m\u001b[0m\u001b[0m\n\u001b[0m",
      "\u001b[1;31mNameError\u001b[0m: name 'user_input' is not defined"
     ]
    }
   ],
   "source": [
    "user_input()"
   ]
  },
  {
   "cell_type": "code",
   "execution_count": null,
   "id": "e28b3763",
   "metadata": {},
   "outputs": [],
   "source": []
  }
 ],
 "metadata": {
  "kernelspec": {
   "display_name": "Python 3 (ipykernel)",
   "language": "python",
   "name": "python3"
  },
  "language_info": {
   "codemirror_mode": {
    "name": "ipython",
    "version": 3
   },
   "file_extension": ".py",
   "mimetype": "text/x-python",
   "name": "python",
   "nbconvert_exporter": "python",
   "pygments_lexer": "ipython3",
   "version": "3.9.7"
  }
 },
 "nbformat": 4,
 "nbformat_minor": 5
}
