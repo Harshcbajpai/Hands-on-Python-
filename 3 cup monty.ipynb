{
 "cells": [
  {
   "cell_type": "code",
   "execution_count": 3,
   "id": "a8d79e7c",
   "metadata": {},
   "outputs": [],
   "source": [
    "def add_function(num1,num2):\n",
    "    return num1+num2"
   ]
  },
  {
   "cell_type": "code",
   "execution_count": 4,
   "id": "d5043419",
   "metadata": {},
   "outputs": [],
   "source": [
    "result = add_function(55,45)"
   ]
  },
  {
   "cell_type": "code",
   "execution_count": 5,
   "id": "7b045897",
   "metadata": {},
   "outputs": [
    {
     "data": {
      "text/plain": [
       "100"
      ]
     },
     "execution_count": 5,
     "metadata": {},
     "output_type": "execute_result"
    }
   ],
   "source": [
    "result"
   ]
  },
  {
   "cell_type": "code",
   "execution_count": 6,
   "id": "863ad9a0",
   "metadata": {},
   "outputs": [],
   "source": [
    "a = add_function(34.34543,45.4545)"
   ]
  },
  {
   "cell_type": "code",
   "execution_count": 7,
   "id": "3a1321ef",
   "metadata": {},
   "outputs": [
    {
     "name": "stdout",
     "output_type": "stream",
     "text": [
      "79.79993\n"
     ]
    }
   ],
   "source": [
    "print(a)"
   ]
  },
  {
   "cell_type": "code",
   "execution_count": 2,
   "id": "94b381a2",
   "metadata": {},
   "outputs": [
    {
     "name": "stdout",
     "output_type": "stream",
     "text": [
      "5\n",
      "10\n",
      "15\n",
      "20\n",
      "25\n",
      "30\n",
      "35\n",
      "40\n",
      "45\n",
      "50\n"
     ]
    }
   ],
   "source": [
    "for num in range(4,52):\n",
    "    if num%5==0:\n",
    "        print(num) "
   ]
  },
  {
   "cell_type": "code",
   "execution_count": null,
   "id": "f39a4083",
   "metadata": {},
   "outputs": [],
   "source": [
    "def say_hello(name,title):\n",
    "    salute=\"hello\"+(title)\n",
    "    return (name)+salute"
   ]
  },
  {
   "cell_type": "code",
   "execution_count": null,
   "id": "1b342363",
   "metadata": {},
   "outputs": [],
   "source": [
    "title=input('whats your designation')\n",
    "name=input('what shall i call you')\n",
    "return say_hello"
   ]
  },
  {
   "cell_type": "code",
   "execution_count": null,
   "id": "7fd2247f",
   "metadata": {},
   "outputs": [],
   "source": []
  },
  {
   "cell_type": "code",
   "execution_count": 10,
   "id": "ec38db01",
   "metadata": {},
   "outputs": [
    {
     "ename": "TypeError",
     "evalue": "say_hello() missing 2 required positional arguments: 'name' and 'title'",
     "output_type": "error",
     "traceback": [
      "\u001b[1;31m---------------------------------------------------------------------------\u001b[0m",
      "\u001b[1;31mTypeError\u001b[0m                                 Traceback (most recent call last)",
      "\u001b[1;32mC:\\Users\\HARESH~1\\AppData\\Local\\Temp/ipykernel_10460/4234249930.py\u001b[0m in \u001b[0;36m<module>\u001b[1;34m\u001b[0m\n\u001b[0;32m      4\u001b[0m \u001b[0mname\u001b[0m \u001b[1;33m=\u001b[0m \u001b[1;34m'harsh'\u001b[0m\u001b[1;33m\u001b[0m\u001b[1;33m\u001b[0m\u001b[0m\n\u001b[0;32m      5\u001b[0m \u001b[0mtitle\u001b[0m \u001b[1;33m=\u001b[0m \u001b[1;34m'mr'\u001b[0m\u001b[1;33m\u001b[0m\u001b[1;33m\u001b[0m\u001b[0m\n\u001b[1;32m----> 6\u001b[1;33m \u001b[0msay_hello\u001b[0m\u001b[1;33m(\u001b[0m\u001b[1;33m)\u001b[0m\u001b[1;33m\u001b[0m\u001b[1;33m\u001b[0m\u001b[0m\n\u001b[0m",
      "\u001b[1;31mTypeError\u001b[0m: say_hello() missing 2 required positional arguments: 'name' and 'title'"
     ]
    }
   ],
   "source": [
    "def say_hello(name,title):\n",
    "    salute=\"hello\"+(title)\n",
    "    return (name)+salut\n"
   ]
  },
  {
   "cell_type": "code",
   "execution_count": 9,
   "id": "1e335543",
   "metadata": {},
   "outputs": [
    {
     "ename": "TypeError",
     "evalue": "say_hello() missing 2 required positional arguments: 'name' and 'title'",
     "output_type": "error",
     "traceback": [
      "\u001b[1;31m---------------------------------------------------------------------------\u001b[0m",
      "\u001b[1;31mTypeError\u001b[0m                                 Traceback (most recent call last)",
      "\u001b[1;32mC:\\Users\\HARESH~1\\AppData\\Local\\Temp/ipykernel_10460/2636502567.py\u001b[0m in \u001b[0;36m<module>\u001b[1;34m\u001b[0m\n\u001b[0;32m      1\u001b[0m \u001b[0mname\u001b[0m \u001b[1;33m=\u001b[0m \u001b[1;34m'harsh'\u001b[0m\u001b[1;33m\u001b[0m\u001b[1;33m\u001b[0m\u001b[0m\n\u001b[0;32m      2\u001b[0m \u001b[0mtitle\u001b[0m \u001b[1;33m=\u001b[0m \u001b[1;34m'mr'\u001b[0m\u001b[1;33m\u001b[0m\u001b[1;33m\u001b[0m\u001b[0m\n\u001b[1;32m----> 3\u001b[1;33m \u001b[0msay_hello\u001b[0m\u001b[1;33m(\u001b[0m\u001b[1;33m)\u001b[0m\u001b[1;33m\u001b[0m\u001b[1;33m\u001b[0m\u001b[0m\n\u001b[0m",
      "\u001b[1;31mTypeError\u001b[0m: say_hello() missing 2 required positional arguments: 'name' and 'title'"
     ]
    }
   ],
   "source": []
  },
  {
   "cell_type": "code",
   "execution_count": 8,
   "id": "1723414d",
   "metadata": {},
   "outputs": [
    {
     "ename": "TypeError",
     "evalue": "say_hello() missing 2 required positional arguments: 'name' and 'title'",
     "output_type": "error",
     "traceback": [
      "\u001b[1;31m---------------------------------------------------------------------------\u001b[0m",
      "\u001b[1;31mTypeError\u001b[0m                                 Traceback (most recent call last)",
      "\u001b[1;32mC:\\Users\\HARESH~1\\AppData\\Local\\Temp/ipykernel_10460/2814888808.py\u001b[0m in \u001b[0;36m<module>\u001b[1;34m\u001b[0m\n\u001b[1;32m----> 1\u001b[1;33m \u001b[0msay_hello\u001b[0m\u001b[1;33m(\u001b[0m\u001b[1;33m)\u001b[0m\u001b[1;33m\u001b[0m\u001b[1;33m\u001b[0m\u001b[0m\n\u001b[0m",
      "\u001b[1;31mTypeError\u001b[0m: say_hello() missing 2 required positional arguments: 'name' and 'title'"
     ]
    }
   ],
   "source": [
    "say_hello()"
   ]
  },
  {
   "cell_type": "code",
   "execution_count": 13,
   "id": "db10d3b9",
   "metadata": {},
   "outputs": [],
   "source": [
    "def say_hello(name):\n",
    "    return (name)+'hi how are you'"
   ]
  },
  {
   "cell_type": "code",
   "execution_count": 17,
   "id": "cde19543",
   "metadata": {},
   "outputs": [
    {
     "data": {
      "text/plain": [
       "'harshhi how are you'"
      ]
     },
     "execution_count": 17,
     "metadata": {},
     "output_type": "execute_result"
    }
   ],
   "source": [
    "say_hello('harsh')"
   ]
  },
  {
   "cell_type": "code",
   "execution_count": 27,
   "id": "617add99",
   "metadata": {},
   "outputs": [],
   "source": [
    "def fine_wine(name , age):\n",
    "    comple = age - 5\n",
    "    return(f'hello {name} you look not a day over {comple}')"
   ]
  },
  {
   "cell_type": "code",
   "execution_count": 28,
   "id": "217a38d3",
   "metadata": {},
   "outputs": [
    {
     "data": {
      "text/plain": [
       "'hello aishwarya you look not a day over 21'"
      ]
     },
     "execution_count": 28,
     "metadata": {},
     "output_type": "execute_result"
    }
   ],
   "source": [
    "fine_wine('aishwarya',26)"
   ]
  },
  {
   "cell_type": "code",
   "execution_count": 11,
   "id": "fc4eafa7",
   "metadata": {},
   "outputs": [],
   "source": [
    "def even_segrigator(num_list):\n",
    "   \n",
    "    even_list = []\n",
    "    \n",
    "    for num in num_list:\n",
    "        if num%2==0:\n",
    "            even_list.append(num)\n",
    "        else:\n",
    "            pass\n",
    "   \n",
    "    return [even_list],[even_list*2]\n",
    "        "
   ]
  },
  {
   "cell_type": "code",
   "execution_count": 12,
   "id": "0e761bd9",
   "metadata": {},
   "outputs": [
    {
     "data": {
      "text/plain": [
       "([[2, 4, 6, 4, 6, 34, 4, 676, 68, 4634, 356, 6, 568, 56]],\n",
       " [[2,\n",
       "   4,\n",
       "   6,\n",
       "   4,\n",
       "   6,\n",
       "   34,\n",
       "   4,\n",
       "   676,\n",
       "   68,\n",
       "   4634,\n",
       "   356,\n",
       "   6,\n",
       "   568,\n",
       "   56,\n",
       "   2,\n",
       "   4,\n",
       "   6,\n",
       "   4,\n",
       "   6,\n",
       "   34,\n",
       "   4,\n",
       "   676,\n",
       "   68,\n",
       "   4634,\n",
       "   356,\n",
       "   6,\n",
       "   568,\n",
       "   56]])"
      ]
     },
     "execution_count": 12,
     "metadata": {},
     "output_type": "execute_result"
    }
   ],
   "source": [
    "even_segrigator([1,2,4,5,6,4,7,6,5,5,5,5,9,34,5,7,4,35,2355,676,68,5,4634,623,5,356,6,57,568,56])"
   ]
  },
  {
   "cell_type": "code",
   "execution_count": 14,
   "id": "c7fcaef5",
   "metadata": {},
   "outputs": [
    {
     "data": {
      "text/plain": [
       "6.840000000000001"
      ]
     },
     "execution_count": 14,
     "metadata": {},
     "output_type": "execute_result"
    }
   ],
   "source": [
    "8.55/1.25"
   ]
  },
  {
   "cell_type": "code",
   "execution_count": 15,
   "id": "4260b4be",
   "metadata": {},
   "outputs": [
    {
     "data": {
      "text/plain": [
       "32.608695652173914"
      ]
     },
     "execution_count": 15,
     "metadata": {},
     "output_type": "execute_result"
    }
   ],
   "source": [
    "60/1.84"
   ]
  },
  {
   "cell_type": "code",
   "execution_count": 16,
   "id": "f831ee83",
   "metadata": {},
   "outputs": [],
   "source": [
    "work_hours=[('haa',346),('jas',874),('hdfn',934)]"
   ]
  },
  {
   "cell_type": "code",
   "execution_count": 34,
   "id": "23661f44",
   "metadata": {},
   "outputs": [],
   "source": [
    "def emplyee_check(work_hours):\n",
    "    \n",
    "    max_hrs = 0\n",
    "    star_employee= ''\n",
    "    \n",
    "    for name,kaam in work_hours:\n",
    "        if max_hrs < kaam:\n",
    "            max_hrs = kaam\n",
    "            star_employee = name\n",
    "        else:\n",
    "            pass\n",
    "    return (max_hrs,star_employee)\n",
    "            "
   ]
  },
  {
   "cell_type": "code",
   "execution_count": 35,
   "id": "619b2c36",
   "metadata": {},
   "outputs": [
    {
     "data": {
      "text/plain": [
       "(934, 'hdfn')"
      ]
     },
     "execution_count": 35,
     "metadata": {},
     "output_type": "execute_result"
    }
   ],
   "source": [
    "emplyee_check(work_hours)"
   ]
  },
  {
   "cell_type": "code",
   "execution_count": 36,
   "id": "afa0b0ce",
   "metadata": {},
   "outputs": [],
   "source": [
    "result = emplyee_check(work_hours)"
   ]
  },
  {
   "cell_type": "code",
   "execution_count": 37,
   "id": "ff6b6c57",
   "metadata": {},
   "outputs": [
    {
     "data": {
      "text/plain": [
       "(934, 'hdfn')"
      ]
     },
     "execution_count": 37,
     "metadata": {},
     "output_type": "execute_result"
    }
   ],
   "source": [
    "result"
   ]
  },
  {
   "cell_type": "code",
   "execution_count": 38,
   "id": "27e37870",
   "metadata": {},
   "outputs": [],
   "source": [
    "person,hours = result"
   ]
  },
  {
   "cell_type": "code",
   "execution_count": 39,
   "id": "44923299",
   "metadata": {},
   "outputs": [
    {
     "data": {
      "text/plain": [
       "934"
      ]
     },
     "execution_count": 39,
     "metadata": {},
     "output_type": "execute_result"
    }
   ],
   "source": [
    "person"
   ]
  },
  {
   "cell_type": "code",
   "execution_count": 40,
   "id": "a1e7a776",
   "metadata": {},
   "outputs": [
    {
     "data": {
      "text/plain": [
       "'hdfn'"
      ]
     },
     "execution_count": 40,
     "metadata": {},
     "output_type": "execute_result"
    }
   ],
   "source": [
    "hours"
   ]
  },
  {
   "cell_type": "code",
   "execution_count": 41,
   "id": "f3c6d483",
   "metadata": {},
   "outputs": [],
   "source": [
    "mylist = [2,4,45,6,7,49,5,6,7,8,7,53,34,56,76,7,8678,564,56,64]"
   ]
  },
  {
   "cell_type": "code",
   "execution_count": 43,
   "id": "b6c968ff",
   "metadata": {},
   "outputs": [],
   "source": [
    "from random import shuffle"
   ]
  },
  {
   "cell_type": "code",
   "execution_count": 44,
   "id": "6eda539c",
   "metadata": {},
   "outputs": [],
   "source": [
    "shuffle(mylist)"
   ]
  },
  {
   "cell_type": "code",
   "execution_count": 45,
   "id": "bc1f2b8e",
   "metadata": {},
   "outputs": [
    {
     "data": {
      "text/plain": [
       "[64, 4, 7, 7, 49, 45, 6, 8678, 76, 2, 34, 7, 8, 564, 6, 56, 56, 53, 5, 7]"
      ]
     },
     "execution_count": 45,
     "metadata": {},
     "output_type": "execute_result"
    }
   ],
   "source": [
    "mylist"
   ]
  },
  {
   "cell_type": "code",
   "execution_count": 46,
   "id": "7f28bfc9",
   "metadata": {},
   "outputs": [],
   "source": [
    "def shuffle_it(ly_list):\n",
    "    shuffle(ly_list)\n",
    "    return ly_list"
   ]
  },
  {
   "cell_type": "code",
   "execution_count": 48,
   "id": "e027799e",
   "metadata": {},
   "outputs": [
    {
     "data": {
      "text/plain": [
       "[4, 56, 2, 76, 8, 7, 53, 5, 64, 6, 7, 45, 8678, 564, 7, 6, 49, 34, 7, 56]"
      ]
     },
     "execution_count": 48,
     "metadata": {},
     "output_type": "execute_result"
    }
   ],
   "source": [
    "shuffle_it(mylist)"
   ]
  },
  {
   "cell_type": "code",
   "execution_count": 86,
   "id": "8b035935",
   "metadata": {},
   "outputs": [],
   "source": [
    "mylist= [' ','0',' ']"
   ]
  },
  {
   "cell_type": "code",
   "execution_count": 87,
   "id": "bb25a23d",
   "metadata": {},
   "outputs": [],
   "source": [
    "def shuffle_it(mylist):\n",
    "    shuffle(mylist)\n",
    "    return mylist"
   ]
  },
  {
   "cell_type": "code",
   "execution_count": 89,
   "id": "2425e21c",
   "metadata": {},
   "outputs": [
    {
     "data": {
      "text/plain": [
       "['0', ' ', ' ']"
      ]
     },
     "execution_count": 89,
     "metadata": {},
     "output_type": "execute_result"
    }
   ],
   "source": [
    "shuffle_it(mylist)\n"
   ]
  },
  {
   "cell_type": "code",
   "execution_count": 90,
   "id": "df3bb502",
   "metadata": {},
   "outputs": [],
   "source": [
    " def player_guess():\n",
    "    guess = '' \n",
    "    \n",
    "    while guess not in ['0','1','2']:\n",
    "        guess = input('please choose a number 0,1,2')\n",
    "        \n",
    "    return int(guess)\n",
    "        "
   ]
  },
  {
   "cell_type": "code",
   "execution_count": null,
   "id": "898d25fb",
   "metadata": {},
   "outputs": [],
   "source": []
  },
  {
   "cell_type": "markdown",
   "id": "9d892cfc",
   "metadata": {},
   "source": [
    "\n"
   ]
  },
  {
   "cell_type": "code",
   "execution_count": 92,
   "id": "5cb62269",
   "metadata": {},
   "outputs": [
    {
     "name": "stdout",
     "output_type": "stream",
     "text": [
      "please choose a number 0,1,23\n",
      "please choose a number 0,1,22\n"
     ]
    }
   ],
   "source": [
    "myindex = player_guess()"
   ]
  },
  {
   "cell_type": "code",
   "execution_count": 93,
   "id": "a58cae2c",
   "metadata": {},
   "outputs": [
    {
     "data": {
      "text/plain": [
       "2"
      ]
     },
     "execution_count": 93,
     "metadata": {},
     "output_type": "execute_result"
    }
   ],
   "source": [
    "myindex"
   ]
  },
  {
   "cell_type": "code",
   "execution_count": 94,
   "id": "c0bb72a5",
   "metadata": {},
   "outputs": [],
   "source": [
    "def check_guess(mylist,guess):\n",
    "    if mylist[guess]=='0':\n",
    "        print('correct guess!!!!')\n",
    "    else:\n",
    "        print('wrong guess!!!!')\n",
    "        print(mylist)\n",
    "        \n",
    "    "
   ]
  },
  {
   "cell_type": "code",
   "execution_count": 97,
   "id": "952f06eb",
   "metadata": {},
   "outputs": [
    {
     "name": "stdout",
     "output_type": "stream",
     "text": [
      "please choose a number 0,1,22\n",
      "wrong guess!!!!\n",
      "[' ', '0', ' ']\n"
     ]
    }
   ],
   "source": [
    "#inital list\n",
    "mylist= [' ','0',' ']\n",
    "#shuffle list\n",
    "mixed_list= shuffle_it(mylist)\n",
    "#user guess\n",
    "guess=player_guess()\n",
    "#check list\n",
    "check_guess(mixed_list,guess)"
   ]
  },
  {
   "cell_type": "code",
   "execution_count": 98,
   "id": "02368b1b",
   "metadata": {},
   "outputs": [],
   "source": [
    "def myfunc(name):\n",
    "    print('hello'+ name)"
   ]
  },
  {
   "cell_type": "code",
   "execution_count": 101,
   "id": "4cd3dbd4",
   "metadata": {},
   "outputs": [
    {
     "name": "stdout",
     "output_type": "stream",
     "text": [
      "hello harsh\n"
     ]
    }
   ],
   "source": [
    "disco = myfunc(' harsh')"
   ]
  },
  {
   "cell_type": "code",
   "execution_count": 103,
   "id": "8e088e8a",
   "metadata": {},
   "outputs": [],
   "source": [
    "def num_exp(*args):\n",
    "    for num in (args):\n",
    "        return sum(args)"
   ]
  },
  {
   "cell_type": "code",
   "execution_count": 105,
   "id": "bf4d7319",
   "metadata": {},
   "outputs": [
    {
     "data": {
      "text/plain": [
       "197"
      ]
     },
     "execution_count": 105,
     "metadata": {},
     "output_type": "execute_result"
    }
   ],
   "source": [
    "num_exp(2,3,6,7,5,4,6,7,45,7,3,4,43,55)"
   ]
  },
  {
   "cell_type": "code",
   "execution_count": 122,
   "id": "4e8ed89a",
   "metadata": {},
   "outputs": [],
   "source": [
    "def myfunc(*args):\n",
    "    mylist=[]\n",
    "    for num in args:\n",
    "        if num %2 == 0 :\n",
    "            mylist.append(num)\n",
    "        else:\n",
    "            pass\n",
    "\n",
    "    return mylist"
   ]
  },
  {
   "cell_type": "code",
   "execution_count": 123,
   "id": "e447e9ed",
   "metadata": {},
   "outputs": [
    {
     "data": {
      "text/plain": [
       "[2, 4, 6, 8, 34, 6, 6744, 342]"
      ]
     },
     "execution_count": 123,
     "metadata": {},
     "output_type": "execute_result"
    }
   ],
   "source": [
    "myfunc(2,3,4,5,6,7,8,9,11,1,31,34,543,6,6744,45,342)"
   ]
  },
  {
   "cell_type": "code",
   "execution_count": 126,
   "id": "5a6f7c96",
   "metadata": {},
   "outputs": [],
   "source": [
    "def myfunc(string):\n",
    "    mylist = []\n",
    "    for i in range(len(string)):\n",
    "        if i%2==0:\n",
    "            mylist.append(string[i].upper())\n",
    "        else:\n",
    "            mylist.append(string[i].lower())\n",
    "    return mylist"
   ]
  },
  {
   "cell_type": "code",
   "execution_count": 127,
   "id": "bae7dd5f",
   "metadata": {},
   "outputs": [
    {
     "data": {
      "text/plain": [
       "['H', 'i', 'H', 'o', 'W', 'a', 'R', 'e', 'Y', 'o', 'U']"
      ]
     },
     "execution_count": 127,
     "metadata": {},
     "output_type": "execute_result"
    }
   ],
   "source": [
    "myfunc('hihowareyou')"
   ]
  },
  {
   "cell_type": "code",
   "execution_count": 134,
   "id": "4a4b08d8",
   "metadata": {},
   "outputs": [],
   "source": [
    "def myfunc(string):\n",
    "    mylist = []\n",
    "    for i in range(len(string)):\n",
    "        if i%2 == 0:\n",
    "            mylist.append(string[i].upper())\n",
    "        elif i%2 != 0:\n",
    "            mylist.append(string[i].lower())\n",
    "    return ''.join(mylist)\n",
    "    "
   ]
  },
  {
   "cell_type": "code",
   "execution_count": 135,
   "id": "879ac65c",
   "metadata": {},
   "outputs": [
    {
     "data": {
      "text/plain": [
       "'HiHoWaReYoU'"
      ]
     },
     "execution_count": 135,
     "metadata": {},
     "output_type": "execute_result"
    }
   ],
   "source": [
    "myfunc('hihowareyou')"
   ]
  },
  {
   "cell_type": "code",
   "execution_count": 136,
   "id": "3daf1dcd",
   "metadata": {},
   "outputs": [
    {
     "data": {
      "text/plain": [
       "'HeLlOaReBhIyAkYaKaRrAhEhOaApP'"
      ]
     },
     "execution_count": 136,
     "metadata": {},
     "output_type": "execute_result"
    }
   ],
   "source": [
    "myfunc('helloarebhiyakyakarrahehoaapp')"
   ]
  },
  {
   "cell_type": "code",
   "execution_count": 1,
   "id": "09cd9ec0",
   "metadata": {},
   "outputs": [
    {
     "name": "stdout",
     "output_type": "stream",
     "text": [
      "range(0, 6)\n"
     ]
    }
   ],
   "source": [
    "print(range(6))"
   ]
  },
  {
   "cell_type": "code",
   "execution_count": 1,
   "id": "cd4d4aa6",
   "metadata": {},
   "outputs": [
    {
     "name": "stdout",
     "output_type": "stream",
     "text": [
      "3 is between 3 and 10\n"
     ]
    }
   ],
   "source": [
    "i=3\n",
    "if i>10:\n",
    "    print (i, 'is greater than 10')\n",
    "elif i<3:\n",
    "    print (i, 'less than 3')\n",
    "elif i>4:\n",
    "    print (i)\n",
    "else:\n",
    "    print (i,'is between 3 and 10')"
   ]
  },
  {
   "cell_type": "code",
   "execution_count": 2,
   "id": "9a7d461a",
   "metadata": {},
   "outputs": [
    {
     "name": "stdout",
     "output_type": "stream",
     "text": [
      "2\n",
      "4\n",
      "6\n",
      "8\n"
     ]
    }
   ],
   "source": [
    "for i in range(2,10,2):\n",
    "     print(i)"
   ]
  },
  {
   "cell_type": "code",
   "execution_count": 2,
   "id": "90299eb6",
   "metadata": {},
   "outputs": [],
   "source": [
    "word = 'haaleluyaaa'"
   ]
  },
  {
   "cell_type": "code",
   "execution_count": 4,
   "id": "5d65359d",
   "metadata": {},
   "outputs": [],
   "source": [
    "text = word.split()"
   ]
  },
  {
   "cell_type": "code",
   "execution_count": 5,
   "id": "754a49f7",
   "metadata": {},
   "outputs": [
    {
     "data": {
      "text/plain": [
       "['haaleluyaaa']"
      ]
     },
     "execution_count": 5,
     "metadata": {},
     "output_type": "execute_result"
    }
   ],
   "source": [
    "text"
   ]
  },
  {
   "cell_type": "code",
   "execution_count": 8,
   "id": "e5e40f12",
   "metadata": {},
   "outputs": [
    {
     "data": {
      "text/plain": [
       "'Haa'"
      ]
     },
     "execution_count": 8,
     "metadata": {},
     "output_type": "execute_result"
    }
   ],
   "source": [
    "word[:3].capitalize()"
   ]
  },
  {
   "cell_type": "code",
   "execution_count": 12,
   "id": "599f3ab6",
   "metadata": {},
   "outputs": [
    {
     "data": {
      "text/plain": [
       "12"
      ]
     },
     "execution_count": 12,
     "metadata": {},
     "output_type": "execute_result"
    }
   ],
   "source": [
    "(3+4+5)"
   ]
  },
  {
   "cell_type": "code",
   "execution_count": 1,
   "id": "bdc2c427",
   "metadata": {},
   "outputs": [],
   "source": [
    "my_list = [1,2,3,4,5,3,2,1,2,3,4,5,2,1,2,3,4,5,7,8,9]"
   ]
  },
  {
   "cell_type": "code",
   "execution_count": 3,
   "id": "3baf3c62",
   "metadata": {},
   "outputs": [
    {
     "data": {
      "text/plain": [
       "{1, 2, 3, 4, 5, 7, 8, 9}"
      ]
     },
     "execution_count": 3,
     "metadata": {},
     "output_type": "execute_result"
    }
   ],
   "source": [
    "set(my_list)"
   ]
  },
  {
   "cell_type": "code",
   "execution_count": null,
   "id": "0770af91",
   "metadata": {},
   "outputs": [],
   "source": []
  }
 ],
 "metadata": {
  "kernelspec": {
   "display_name": "Python 3 (ipykernel)",
   "language": "python",
   "name": "python3"
  },
  "language_info": {
   "codemirror_mode": {
    "name": "ipython",
    "version": 3
   },
   "file_extension": ".py",
   "mimetype": "text/x-python",
   "name": "python",
   "nbconvert_exporter": "python",
   "pygments_lexer": "ipython3",
   "version": "3.9.7"
  }
 },
 "nbformat": 4,
 "nbformat_minor": 5
}
